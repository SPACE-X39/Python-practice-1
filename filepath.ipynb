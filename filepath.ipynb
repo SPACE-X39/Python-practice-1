{
  "cells": [
    {
      "cell_type": "markdown",
      "metadata": {
        "id": "view-in-github",
        "colab_type": "text"
      },
      "source": [
        "<a href=\"https://colab.research.google.com/github/SPACE-X39/Python-practice-1/blob/main/filepath.ipynb\" target=\"_parent\"><img src=\"https://colab.research.google.com/assets/colab-badge.svg\" alt=\"Open In Colab\"/></a>"
      ]
    },
    {
      "cell_type": "markdown",
      "id": "96572976",
      "metadata": {
        "id": "96572976"
      },
      "source": [
        "Working with Filepaths"
      ]
    },
    {
      "cell_type": "code",
      "execution_count": null,
      "id": "e939a86a",
      "metadata": {
        "id": "e939a86a",
        "outputId": "75f4d188-213a-4158-af5b-7376d14ba9a3"
      },
      "outputs": [
        {
          "name": "stdout",
          "output_type": "stream",
          "text": [
            "New disrectory package created\n"
          ]
        }
      ],
      "source": [
        "#Creating a new directory\n",
        "import os\n",
        "new_dir = \"package\"\n",
        "os.mkdir(new_dir)\n",
        "print(f\"New disrectory {new_dir} created\")"
      ]
    },
    {
      "cell_type": "code",
      "execution_count": null,
      "id": "374570b6",
      "metadata": {
        "id": "374570b6",
        "outputId": "27824cfd-d47e-4da3-c51c-6431db691039"
      },
      "outputs": [
        {
          "name": "stdout",
          "output_type": "stream",
          "text": [
            "['.gitignore', 'filepath.ipynb', 'Include', 'Lib', 'package', 'pyvenv.cfg', 'Scripts', 'share']\n"
          ]
        }
      ],
      "source": [
        "#Listing files and directories\n",
        "items = os.listdir('.')\n",
        "print(items)"
      ]
    },
    {
      "cell_type": "code",
      "execution_count": null,
      "id": "4bdd0531",
      "metadata": {
        "id": "4bdd0531",
        "outputId": "11cc0e47-c568-4996-e2a4-f7bd86827914"
      },
      "outputs": [
        {
          "name": "stdout",
          "output_type": "stream",
          "text": [
            "folder\\newf.txt\n"
          ]
        }
      ],
      "source": [
        "#Joining paths to create a file path\n",
        "dir_name = \"folder\"\n",
        "file_name = \"newf.txt\"\n",
        "full_path = os.path.join(dir_name, file_name)\n",
        "print(full_path)"
      ]
    },
    {
      "cell_type": "code",
      "execution_count": null,
      "id": "b576813a",
      "metadata": {
        "id": "b576813a",
        "outputId": "c6b0ac09-f470-4f7c-dc5a-0bbb381237ed"
      },
      "outputs": [
        {
          "name": "stdout",
          "output_type": "stream",
          "text": [
            "c:\\Users\\jenaa\\OneDrive\\Desktop\\DSML\\myenv\\folder\\newf.txt\n"
          ]
        }
      ],
      "source": [
        "#Getting entire path\n",
        "dir_name = \"folder\"\n",
        "file_name = \"newf.txt\"\n",
        "full_path = os.path.join(os.getcwd(), dir_name, file_name)\n",
        "print(full_path)"
      ]
    },
    {
      "cell_type": "code",
      "execution_count": null,
      "id": "039244bc",
      "metadata": {
        "id": "039244bc",
        "outputId": "b3c51fe8-bd48-41a3-a306-452e74cd5626"
      },
      "outputs": [
        {
          "name": "stdout",
          "output_type": "stream",
          "text": [
            "c:\\Users\\jenaa\\OneDrive\\Desktop\\DSML\\myenv\\example.txt\n"
          ]
        }
      ],
      "source": [
        "#getting absolute path\n",
        "relative_path = 'example.txt'\n",
        "absolute_path = os.path.abspath(relative_path)\n",
        "print(absolute_path)"
      ]
    },
    {
      "cell_type": "code",
      "execution_count": null,
      "id": "d6bf9508",
      "metadata": {
        "id": "d6bf9508",
        "outputId": "6b5e47b6-5644-48e8-8c2d-677186317fac"
      },
      "outputs": [
        {
          "name": "stdout",
          "output_type": "stream",
          "text": [
            "The path file.txt does not exist.\n"
          ]
        }
      ],
      "source": [
        "#checking if a path exists\n",
        "path = 'file.txt'\n",
        "if os.path.exists(path):\n",
        "    print(f\"The path {path} exists.\")\n",
        "else:\n",
        "    print(f\"The path {path} does not exist.\")"
      ]
    },
    {
      "cell_type": "code",
      "execution_count": null,
      "id": "09f1076f",
      "metadata": {
        "id": "09f1076f",
        "outputId": "13507f38-7698-4724-ecce-8b57b35311a2"
      },
      "outputs": [
        {
          "name": "stdout",
          "output_type": "stream",
          "text": [
            "package is a directory.\n"
          ]
        }
      ],
      "source": [
        "#Checking if it's a file or directory\n",
        "path = \"package\"\n",
        "if os.path.isfile(path):\n",
        "    print(f\"{path} is a file.\")\n",
        "elif os.path.isdir(path):\n",
        "    print(f\"{path} is a directory.\")\n",
        "else:\n",
        "    print(f\"{path} is neither a file nor a directory.\")"
      ]
    }
  ],
  "metadata": {
    "kernelspec": {
      "display_name": "myenv (3.13.1)",
      "language": "python",
      "name": "python3"
    },
    "language_info": {
      "codemirror_mode": {
        "name": "ipython",
        "version": 3
      },
      "file_extension": ".py",
      "mimetype": "text/x-python",
      "name": "python",
      "nbconvert_exporter": "python",
      "pygments_lexer": "ipython3",
      "version": "3.13.1"
    },
    "colab": {
      "provenance": [],
      "include_colab_link": true
    }
  },
  "nbformat": 4,
  "nbformat_minor": 5
}