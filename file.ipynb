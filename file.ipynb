{
  "cells": [
    {
      "cell_type": "markdown",
      "metadata": {
        "id": "view-in-github",
        "colab_type": "text"
      },
      "source": [
        "<a href=\"https://colab.research.google.com/github/SPACE-X39/Python-practice-1/blob/main/file.ipynb\" target=\"_parent\"><img src=\"https://colab.research.google.com/assets/colab-badge.svg\" alt=\"Open In Colab\"/></a>"
      ]
    },
    {
      "cell_type": "markdown",
      "id": "79010c04",
      "metadata": {
        "id": "79010c04"
      },
      "source": [
        "File Operations"
      ]
    },
    {
      "cell_type": "code",
      "execution_count": null,
      "id": "754bb355",
      "metadata": {
        "id": "754bb355",
        "outputId": "734039a3-6986-41fa-e7d9-f9cf2eb719dd"
      },
      "outputs": [
        {
          "name": "stdout",
          "output_type": "stream",
          "text": [
            "Hii Ashutosh,\n",
            "How are you?\n",
            "Frankly speaking Not Good\n",
            "Why ? what happened \n",
            "Don't want to speak about it\n"
          ]
        }
      ],
      "source": [
        "#Reading an existing file\n",
        "with open('example.txt','r') as file:\n",
        "    content = file.read()\n",
        "    print(content)"
      ]
    },
    {
      "cell_type": "code",
      "execution_count": null,
      "id": "170f29bc",
      "metadata": {
        "id": "170f29bc"
      },
      "outputs": [],
      "source": [
        "#Writing an existing file(overwriting)\n",
        "with open('example.txt','w') as file:\n",
        "    file.write(\"Hey there, a new line has been added\\n\")\n",
        "    file.write(\"Do you understand?\")"
      ]
    },
    {
      "cell_type": "code",
      "execution_count": null,
      "id": "5b643e04",
      "metadata": {
        "id": "5b643e04"
      },
      "outputs": [],
      "source": [
        "#writing without overwriting\n",
        "with open('example.txt','a') as file:\n",
        "    file.write(\"\\nYes I do\")"
      ]
    },
    {
      "cell_type": "code",
      "execution_count": null,
      "id": "0b501470",
      "metadata": {
        "id": "0b501470"
      },
      "outputs": [],
      "source": [
        "#writing a list of lines\n",
        "lines = ['\\nfirst line','\\nsecond line','\\nthird line']\n",
        "with open('example.txt','a') as file:\n",
        "    file.writelines(lines)"
      ]
    },
    {
      "cell_type": "code",
      "execution_count": null,
      "id": "54813194",
      "metadata": {
        "id": "54813194"
      },
      "outputs": [],
      "source": [
        "#Writing a binary file\n",
        "data = b'\\x01\\x02\\x03\\x04\\x05'\n",
        "with open('example.bin','wb') as file:\n",
        "    file.write(data)\n"
      ]
    },
    {
      "cell_type": "code",
      "execution_count": null,
      "id": "6bc8d4de",
      "metadata": {
        "id": "6bc8d4de",
        "outputId": "d7b1778f-a8ab-42de-f267-0fd07d0e79f1"
      },
      "outputs": [
        {
          "name": "stdout",
          "output_type": "stream",
          "text": [
            "b'\\x01\\x02\\x03\\x04\\x05'\n"
          ]
        }
      ],
      "source": [
        "#reading a binary file\n",
        "with open('example.bin','rb') as file:\n",
        "    content = file.read()\n",
        "    print(content)"
      ]
    },
    {
      "cell_type": "code",
      "execution_count": null,
      "id": "e83a9498",
      "metadata": {
        "id": "e83a9498"
      },
      "outputs": [],
      "source": [
        "#Reading from a source file and writing into a destination file basically copying a file\n",
        "with open('example.txt','r') as source_file:\n",
        "    content = source_file.read()\n",
        "with open('destination.txt','w') as dest_file:\n",
        "    dest_file.write(content)"
      ]
    },
    {
      "cell_type": "code",
      "execution_count": null,
      "id": "b99677f8",
      "metadata": {
        "id": "b99677f8",
        "outputId": "80d3e6d9-354f-4c40-f1b3-ddaa3b09fd38"
      },
      "outputs": [
        {
          "name": "stdout",
          "output_type": "stream",
          "text": [
            "Lines: 3, Words: 13, Characters: 78\n"
          ]
        }
      ],
      "source": [
        "#Reading a text file and finding the number of lines, words, and characters\n",
        "def count_text_file(file_path):\n",
        "    with open(file_path,'r') as file:\n",
        "        lines = file.readlines()\n",
        "        line_count = len(lines)\n",
        "        word_count = sum(len(line.split()) for line in lines)\n",
        "        char_count = sum(len(line) for line in lines)\n",
        "    return line_count, word_count, char_count\n",
        "file_path = 'example1.txt'\n",
        "lines, words, chars = count_text_file(file_path)\n",
        "print(f'Lines: {lines}, Words: {words}, Characters: {chars}')"
      ]
    },
    {
      "cell_type": "code",
      "execution_count": null,
      "id": "8f607782",
      "metadata": {
        "id": "8f607782",
        "outputId": "f6b7a117-029a-4e76-978f-5c191bb93a5d"
      },
      "outputs": [
        {
          "name": "stdout",
          "output_type": "stream",
          "text": [
            "This is a new file.\n",
            "It for both write and read operation\n"
          ]
        }
      ],
      "source": [
        "#Writing and raeding a file at once\n",
        "with open('temp.txt','w+') as file:\n",
        "    file.write('This is a new file.\\n')\n",
        "    file.write('It for both write and read operation')\n",
        "#Moving cursor to the begining of file to read from the start\n",
        "    file.seek(0)\n",
        "    content = file.read()\n",
        "    print(content)"
      ]
    }
  ],
  "metadata": {
    "kernelspec": {
      "display_name": "venv",
      "language": "python",
      "name": "python3"
    },
    "language_info": {
      "codemirror_mode": {
        "name": "ipython",
        "version": 3
      },
      "file_extension": ".py",
      "mimetype": "text/x-python",
      "name": "python",
      "nbconvert_exporter": "python",
      "pygments_lexer": "ipython3",
      "version": "3.12.0"
    },
    "colab": {
      "provenance": [],
      "include_colab_link": true
    }
  },
  "nbformat": 4,
  "nbformat_minor": 5
}