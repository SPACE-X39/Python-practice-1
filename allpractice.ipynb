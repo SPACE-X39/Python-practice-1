{
  "cells": [
    {
      "cell_type": "markdown",
      "metadata": {
        "id": "view-in-github",
        "colab_type": "text"
      },
      "source": [
        "<a href=\"https://colab.research.google.com/github/SPACE-X39/Python-practice-1/blob/main/allpractice.ipynb\" target=\"_parent\"><img src=\"https://colab.research.google.com/assets/colab-badge.svg\" alt=\"Open In Colab\"/></a>"
      ]
    },
    {
      "cell_type": "markdown",
      "id": "97525886",
      "metadata": {
        "id": "97525886"
      },
      "source": [
        "#Strings"
      ]
    },
    {
      "cell_type": "code",
      "execution_count": null,
      "id": "7a7dc784",
      "metadata": {
        "id": "7a7dc784",
        "outputId": "5fae9e4c-4260-47a7-9c38-02f5291132be",
        "colab": {
          "base_uri": "https://localhost:8080/"
        }
      },
      "outputs": [
        {
          "output_type": "stream",
          "name": "stdout",
          "text": [
            "10\n",
            "Hey There\n",
            "e\n",
            "I'll get a Job\n",
            "I'll get a Job in thi\n",
            "loea\n"
          ]
        },
        {
          "output_type": "execute_result",
          "data": {
            "text/plain": [
              "5"
            ]
          },
          "metadata": {},
          "execution_count": 1
        }
      ],
      "source": [
        "#Length of string\n",
        "str = \"Hello Ashu\"\n",
        "print(len(str))\n",
        "#Concatination\n",
        "str1 = \"Hey\"\n",
        "str2 = \"There\"\n",
        "print(str1+\" \"+str2)\n",
        "print(str1[1])#Indexing\n",
        "str3 = \"I'll get a Job in this month\"\n",
        "print(str3[:14])#slicing\n",
        "print(str3[:-6-1])#Negetive slicing\n",
        "str4 = \"HelooNehahowareyou\"\n",
        "print(str4[2:10:2])#Slicing with step\n",
        "str4.endswith(\"ou\")#Endswith function\n",
        "str4.capitalize()#usede to capitalize first letter of string\n",
        "str4.find(\"Neha\")#find function(used to find the index of substring)"
      ]
    },
    {
      "cell_type": "markdown",
      "id": "770f00b2",
      "metadata": {
        "id": "770f00b2"
      },
      "source": [
        "#LISTS"
      ]
    },
    {
      "cell_type": "code",
      "execution_count": null,
      "id": "3b132e46",
      "metadata": {
        "id": "3b132e46",
        "outputId": "f54ff09e-ebb2-445e-c75c-7b8bed258ad1",
        "colab": {
          "base_uri": "https://localhost:8080/"
        }
      },
      "outputs": [
        {
          "output_type": "stream",
          "name": "stdout",
          "text": [
            "[1, 2, 3, 4, 5, 6, 7, 8, 9, 10, 11, 12, 13, 14, 15, 16, 17, 18, 19, 20]\n",
            "11\n"
          ]
        }
      ],
      "source": [
        "#Creating a list of 20 numbers\n",
        "lst = list(range(1,21))\n",
        "print(lst)\n",
        "#Printing middle num\n",
        "print(lst[len(lst)//2])"
      ]
    },
    {
      "cell_type": "code",
      "execution_count": null,
      "id": "bf9825a0",
      "metadata": {
        "id": "bf9825a0",
        "outputId": "0f809f66-19e6-4186-faca-7843887c14ab",
        "colab": {
          "base_uri": "https://localhost:8080/"
        }
      },
      "outputs": [
        {
          "output_type": "stream",
          "name": "stdout",
          "text": [
            "[12, 17, 10.5, 'Ashu', True, 'Hlw']\n",
            "[12, 17, 'false', 10.5, 'Ashu', True, 'Hlw']\n",
            "[2.77, 10, 52, 99]\n",
            "None\n",
            "[0, 2.5, 11, 22]\n",
            "[22, 0, 2.5, 11]\n",
            "[11, 2.5, 0, 22]\n",
            "[11, 0, 22]\n",
            "[11, 0]\n"
          ]
        }
      ],
      "source": [
        "list1 = [12,17,10.5,\"Ashu\",True]\n",
        "list1.append(\"Hlw\")#Append function(adds element at last)\n",
        "print(list1)\n",
        "#Inserting element at specific index\n",
        "list1.insert(2,\"false\")\n",
        "print(list1)\n",
        "list2 = [52,99,10,2.77]\n",
        "list2.sort()#Sort function sorts in ascending order\n",
        "print(list2)\n",
        "print(list2.sort()) #returns None bcz it modifies the original list and doesn't return anything\n",
        "list3 = [22,0,2.5,11]\n",
        "print(sorted(list3)) #returns a new sorted list and doesn't modify the original list\n",
        "print(list3) #original list remains same\n",
        "list3.reverse()#Reverses the original list\n",
        "print(list3)\n",
        "list3.remove(2.5)#Removes the specified element\n",
        "print(list3)\n",
        "list3.pop()#Removes the last element\n",
        "print(list3)"
      ]
    },
    {
      "cell_type": "code",
      "execution_count": null,
      "id": "2da6442a",
      "metadata": {
        "id": "2da6442a"
      },
      "outputs": [],
      "source": [
        "#List Comprehension"
      ]
    },
    {
      "cell_type": "code",
      "execution_count": null,
      "id": "6ccde937",
      "metadata": {
        "id": "6ccde937",
        "outputId": "b3e000be-cfd1-435e-e636-f906fe0acfe0",
        "colab": {
          "base_uri": "https://localhost:8080/"
        }
      },
      "outputs": [
        {
          "output_type": "execute_result",
          "data": {
            "text/plain": [
              "[1, 4, 9, 16, 25]"
            ]
          },
          "metadata": {},
          "execution_count": 5
        }
      ],
      "source": [
        "'''Print squares of first 5 natural numbers'''\n",
        "[x**2 for x in range(1,6)]"
      ]
    },
    {
      "cell_type": "code",
      "execution_count": null,
      "id": "2312a5d8",
      "metadata": {
        "id": "2312a5d8",
        "outputId": "6db06d63-9c06-4673-e559-102ae7bada86",
        "colab": {
          "base_uri": "https://localhost:8080/"
        }
      },
      "outputs": [
        {
          "output_type": "execute_result",
          "data": {
            "text/plain": [
              "[2, 4, 6, 8, 10, 12, 14, 16, 18, 20]"
            ]
          },
          "metadata": {},
          "execution_count": 6
        }
      ],
      "source": [
        "'''print even numbers from 1 to 20'''\n",
        "[x for x in range(1,21) if x%2==0]"
      ]
    },
    {
      "cell_type": "code",
      "execution_count": null,
      "id": "76518d0f",
      "metadata": {
        "id": "76518d0f",
        "outputId": "7c7430e9-ecba-446a-a91e-16f1be617bc0",
        "colab": {
          "base_uri": "https://localhost:8080/"
        }
      },
      "outputs": [
        {
          "output_type": "execute_result",
          "data": {
            "text/plain": [
              "[15, 30, 45]"
            ]
          },
          "metadata": {},
          "execution_count": 7
        }
      ],
      "source": [
        "'''print all the numbers between 1 to 50 which are divisible by 3 and 5'''\n",
        "\n",
        "[x for x in range(1,51) if x%3==0 and x%5==0]"
      ]
    },
    {
      "cell_type": "code",
      "execution_count": null,
      "id": "54a48991",
      "metadata": {
        "id": "54a48991",
        "outputId": "11a2cb85-6d4c-4099-8a85-f78fb2575a76",
        "colab": {
          "base_uri": "https://localhost:8080/"
        }
      },
      "outputs": [
        {
          "output_type": "stream",
          "name": "stdout",
          "text": [
            "[[1, 'a'], [1, 'b'], [1, 'c'], [3, 'a'], [3, 'b'], [3, 'c'], [5, 'a'], [5, 'b'], [5, 'c']]\n"
          ]
        }
      ],
      "source": [
        "#Printing all the pairs of two lists\n",
        "lst1 = [1,3,5]\n",
        "lst2 = [\"a\",\"b\",\"c\"]\n",
        "pair = [[i,j] for i in lst1 for j in lst2]\n",
        "print(pair)\n"
      ]
    },
    {
      "cell_type": "code",
      "execution_count": null,
      "id": "8ba703ee",
      "metadata": {
        "id": "8ba703ee",
        "outputId": "f1cf2a07-1769-47a1-cc3a-16992b9fc27d",
        "colab": {
          "base_uri": "https://localhost:8080/"
        }
      },
      "outputs": [
        {
          "output_type": "stream",
          "name": "stdout",
          "text": [
            "['b', 'b', 'k', 'x', 'g']\n"
          ]
        }
      ],
      "source": [
        "#creating a random list of letters\n",
        "import random\n",
        "letters = [chr(i) for i in range(97,123)]\n",
        "random_list = random.choices(letters,k=5)\n",
        "print(random_list)"
      ]
    },
    {
      "cell_type": "code",
      "execution_count": null,
      "id": "0ca5c258",
      "metadata": {
        "id": "0ca5c258",
        "outputId": "c6b84928-48ad-42ca-e229-489a3b8f47fb",
        "colab": {
          "base_uri": "https://localhost:8080/"
        }
      },
      "outputs": [
        {
          "output_type": "stream",
          "name": "stdout",
          "text": [
            "[1, 4, 7]\n",
            "[3, 1, 4]\n",
            "7\n"
          ]
        }
      ],
      "source": [
        "# accessing a perticular element from the matrix\n",
        "matrix = [[1,4,7],[3,1,4]]\n",
        "for row in matrix:\n",
        "    print(row)\n",
        "#accessing 7\n",
        "print(matrix[0][2])"
      ]
    }
  ],
  "metadata": {
    "kernelspec": {
      "display_name": "venv",
      "language": "python",
      "name": "python3"
    },
    "language_info": {
      "codemirror_mode": {
        "name": "ipython",
        "version": 3
      },
      "file_extension": ".py",
      "mimetype": "text/x-python",
      "name": "python",
      "nbconvert_exporter": "python",
      "pygments_lexer": "ipython3",
      "version": "3.12.0"
    },
    "colab": {
      "provenance": [],
      "include_colab_link": true
    }
  },
  "nbformat": 4,
  "nbformat_minor": 5
}