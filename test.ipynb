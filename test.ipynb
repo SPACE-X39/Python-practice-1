{
 "cells": [
  {
   "cell_type": "code",
   "execution_count": 1,
   "id": "7d42d3cd",
   "metadata": {},
   "outputs": [
    {
     "data": {
      "text/plain": [
       "2"
      ]
     },
     "execution_count": 1,
     "metadata": {},
     "output_type": "execute_result"
    }
   ],
   "source": [
    "1+1"
   ]
  },
  {
   "cell_type": "code",
   "execution_count": 2,
   "id": "ec7207fc",
   "metadata": {},
   "outputs": [
    {
     "name": "stdout",
     "output_type": "stream",
     "text": [
      "21\n"
     ]
    }
   ],
   "source": [
    "total = 1+2+3+4+\\\n",
    "5+6\n",
    "print(total)"
   ]
  },
  {
   "cell_type": "code",
   "execution_count": 3,
   "id": "627fd546",
   "metadata": {},
   "outputs": [
    {
     "name": "stdout",
     "output_type": "stream",
     "text": [
      "5\n"
     ]
    }
   ],
   "source": [
    "x=2;y=3;z=x+y\n",
    "print(z)"
   ]
  },
  {
   "cell_type": "code",
   "execution_count": 2,
   "id": "683da904",
   "metadata": {},
   "outputs": [
    {
     "name": "stdout",
     "output_type": "stream",
     "text": [
      "sum 22\n",
      "difference -2\n",
      "Multiplication 120\n",
      "Division 0.8333333333333334\n"
     ]
    }
   ],
   "source": [
    "#Simple calculator\n",
    "a = int(input(\"Enter first number: \"))\n",
    "b = int(input(\"Enter second number: \"))\n",
    "print(\"sum\", a+b)\n",
    "print(\"difference\", a-b)\n",
    "print(\"Multiplication\",a*b)\n",
    "print(\"Division\", a/b)"
   ]
  },
  {
   "cell_type": "code",
   "execution_count": 1,
   "id": "c508ad5e",
   "metadata": {},
   "outputs": [
    {
     "name": "stdout",
     "output_type": "stream",
     "text": [
      "Result: 2.0\n"
     ]
    }
   ],
   "source": [
    "a = int(input(\"Enter value for a:\"))\n",
    "b = int(input(\"Enter value for b:\"))\n",
    "operation = input(\"Enter operation (+,-,*,%):\")\n",
    "if operation == \"+\":\n",
    "    print(\"Result:\", a + b)\n",
    "elif operation == \"-\":\n",
    "    print(\"Result:\", a - b)\n",
    "elif operation == \"*\":\n",
    "    print(\"Result:\", a * b)\n",
    "else:\n",
    "    print(\"Result:\", a / b)\n",
    "    "
   ]
  },
  {
   "cell_type": "code",
   "execution_count": 5,
   "id": "22310469",
   "metadata": {},
   "outputs": [
    {
     "name": "stdout",
     "output_type": "stream",
     "text": [
      "0\n",
      "1\n",
      "2\n",
      "3\n"
     ]
    }
   ],
   "source": [
    "for i in range(10):\n",
    "    if i == 4:\n",
    "        break\n",
    "    print(i)"
   ]
  },
  {
   "cell_type": "code",
   "execution_count": 9,
   "id": "100f043e",
   "metadata": {},
   "outputs": [
    {
     "name": "stdout",
     "output_type": "stream",
     "text": [
      "i:0,j:0,k:0\n",
      "i:0,j:0,k:1\n",
      "i:0,j:1,k:0\n",
      "i:0,j:1,k:1\n",
      "i:1,j:0,k:0\n",
      "i:1,j:0,k:1\n",
      "i:1,j:1,k:0\n",
      "i:1,j:1,k:1\n",
      "i:2,j:0,k:0\n",
      "i:2,j:0,k:1\n",
      "i:2,j:1,k:0\n",
      "i:2,j:1,k:1\n"
     ]
    }
   ],
   "source": [
    "#nested loop\n",
    "for i in range(3):\n",
    "    for j in range(2):\n",
    "        for k in range(2):\n",
    "            print(f\"i:{i},j:{j},k:{k}\")"
   ]
  },
  {
   "cell_type": "code",
   "execution_count": 11,
   "id": "59af4a2a",
   "metadata": {},
   "outputs": [
    {
     "name": "stdout",
     "output_type": "stream",
     "text": [
      "2 3 5 7 11 13 17 19 23 29 31 37 41 43 47 53 59 61 67 71 73 79 83 89 97 "
     ]
    }
   ],
   "source": [
    "# Find all the prime numbers between 100\n",
    "for num in range(1,101):\n",
    "    if num > 1:\n",
    "        for i in range (2,num):\n",
    "            if(num%i) == 0:\n",
    "                break\n",
    "        else:\n",
    "            print(num, end=\" \")"
   ]
  },
  {
   "cell_type": "code",
   "execution_count": 12,
   "id": "b93a5134",
   "metadata": {},
   "outputs": [
    {
     "data": {
      "text/plain": [
       "'even'"
      ]
     },
     "execution_count": 12,
     "metadata": {},
     "output_type": "execute_result"
    }
   ],
   "source": [
    "def even_odd(num):\n",
    "    if num%2 == 0:\n",
    "        return \"even\"\n",
    "    else:\n",
    "        return \"odd\"\n",
    "even_odd(10)"
   ]
  },
  {
   "cell_type": "code",
   "execution_count": 13,
   "id": "f96aeb67",
   "metadata": {},
   "outputs": [
    {
     "name": "stdout",
     "output_type": "stream",
     "text": [
      "1 2 3 4.0 Jena True "
     ]
    }
   ],
   "source": [
    "def print_num(*ashu):\n",
    "    for i in ashu:\n",
    "        print(i, end=\" \")\n",
    "\n",
    "print_num(1, 2, 3, 4.0, \"Jena\", True)"
   ]
  },
  {
   "cell_type": "code",
   "execution_count": 2,
   "id": "0154db1e",
   "metadata": {},
   "outputs": [
    {
     "name": "stdout",
     "output_type": "stream",
     "text": [
      "[[1, 2], [3, 4]]\n",
      "[[1, 2], [3, 4]]\n"
     ]
    }
   ],
   "source": [
    "import copy\n",
    "a = [[1, 2], [3, 4]]\n",
    "shallow = copy.copy(a)\n",
    "deep = copy.deepcopy(a)\n",
    "print(shallow)\n",
    "print(deep)\n"
   ]
  },
  {
   "cell_type": "code",
   "execution_count": 3,
   "id": "e592f14f",
   "metadata": {},
   "outputs": [
    {
     "name": "stdout",
     "output_type": "stream",
     "text": [
      "[1, 2, 3, 4]\n"
     ]
    }
   ],
   "source": [
    "a = [1,2,3]\n",
    "b = a\n",
    "b.append(4)\n",
    "print(a)"
   ]
  },
  {
   "cell_type": "code",
   "execution_count": 14,
   "id": "93c0f718",
   "metadata": {},
   "outputs": [
    {
     "name": "stdout",
     "output_type": "stream",
     "text": [
      "even\n"
     ]
    }
   ],
   "source": [
    "even_odd = lambda num:\"even\" if num%2==0 else \"odd\"\n",
    "print(even_odd(10))"
   ]
  },
  {
   "cell_type": "code",
   "execution_count": null,
   "id": "9a37325b",
   "metadata": {},
   "outputs": [
    {
     "name": "stdout",
     "output_type": "stream",
     "text": [
      "Negative\n"
     ]
    }
   ],
   "source": [
    "num = int(input(\"Enter a number: \"))\n",
    "if num>0:\n",
    "    print(\"Positive\")\n",
    "elif num == 0:\n",
    "    print(\"Zero\")\n",
    "else:\n",
    "    print(\"Negative\")"
   ]
  },
  {
   "cell_type": "code",
   "execution_count": 6,
   "id": "4145bcf9",
   "metadata": {},
   "outputs": [
    {
     "name": "stdout",
     "output_type": "stream",
     "text": [
      "Positive even\n"
     ]
    }
   ],
   "source": [
    "num = float(input(\"enter a number:\"))\n",
    "if num >0:\n",
    "    if num%2 ==0:\n",
    "        print(\"Positive even\")\n",
    "    else:\n",
    "        print(\"Positive odd\")\n",
    "elif num < 0:\n",
    "    if num%2 ==0:\n",
    "        print(\"Negative even\")\n",
    "    else:\n",
    "        print(\"Negative odd\")\n",
    "else:\n",
    "    print(\"Zero\")"
   ]
  },
  {
   "cell_type": "code",
   "execution_count": 7,
   "id": "e26cf747",
   "metadata": {},
   "outputs": [
    {
     "name": "stdout",
     "output_type": "stream",
     "text": [
      "1 2 3 4 5 6 7 8 9 10 "
     ]
    }
   ],
   "source": [
    "# printing numbers from 1 to n\n",
    "for i in range(1, 11):\n",
    "    print(i, end=\" \")"
   ]
  },
  {
   "cell_type": "code",
   "execution_count": 9,
   "id": "7ee25e60",
   "metadata": {},
   "outputs": [
    {
     "name": "stdout",
     "output_type": "stream",
     "text": [
      "1 2 3 4 5 6 7 8 9 10 "
     ]
    }
   ],
   "source": [
    "i = 1\n",
    "while(i<=10):\n",
    "    print(i, end=\" \")\n",
    "    i+=1"
   ]
  },
  {
   "cell_type": "code",
   "execution_count": 14,
   "id": "dff7d8b1",
   "metadata": {},
   "outputs": [
    {
     "name": "stdout",
     "output_type": "stream",
     "text": [
      "* * * * * \n",
      "* * * * * \n",
      "* * * * * \n",
      "* * * * * \n",
      "* * * * * \n"
     ]
    }
   ],
   "source": [
    "#5*5 grid of *\n",
    "for i in range(5):\n",
    "    for J in range (5):\n",
    "        print(f\"*\", end=\" \")\n",
    "    print()"
   ]
  },
  {
   "cell_type": "code",
   "execution_count": 16,
   "id": "c9900e4e",
   "metadata": {},
   "outputs": [
    {
     "name": "stdout",
     "output_type": "stream",
     "text": [
      "total sum of num is 16\n"
     ]
    }
   ],
   "source": [
    "# break when user enters 0 untill sum all the input numbers\n",
    "total = 0\n",
    "while True:\n",
    "    num = int(input(\"enter a num:\"))\n",
    "    if num == 0:\n",
    "        break\n",
    "    total += num\n",
    "print(f\"total sum of num is {total}\")\n"
   ]
  },
  {
   "cell_type": "code",
   "execution_count": 17,
   "id": "60304edd",
   "metadata": {},
   "outputs": [
    {
     "name": "stdout",
     "output_type": "stream",
     "text": [
      "1 2 3 4 6 7 8 9 10 "
     ]
    }
   ],
   "source": [
    "#print num from 1-10 except 5\n",
    "for i in range (1,11):\n",
    "    if i ==5:\n",
    "        continue\n",
    "    print(i, end=\" \")"
   ]
  },
  {
   "cell_type": "code",
   "execution_count": 19,
   "id": "a1679e23",
   "metadata": {},
   "outputs": [
    {
     "name": "stdout",
     "output_type": "stream",
     "text": [
      "2 4 6 8 10 "
     ]
    }
   ],
   "source": [
    "num = int(input(\"Enter a number: \"))\n",
    "for i in range(1,num+1):\n",
    "    if i % 2 ==0:\n",
    "        print(i, end=\" \")"
   ]
  },
  {
   "cell_type": "code",
   "execution_count": 21,
   "id": "b39c80d7",
   "metadata": {},
   "outputs": [
    {
     "name": "stdout",
     "output_type": "stream",
     "text": [
      "Factorial of 3 is 6\n"
     ]
    }
   ],
   "source": [
    "num = int(input(\"Enter a number: \"))\n",
    "factorial = 1\n",
    "i = 1\n",
    "while i <= num:\n",
    "    factorial *= i\n",
    "    i += 1\n",
    "print(f\"Factorial of {num} is {factorial}\")"
   ]
  },
  {
   "cell_type": "code",
   "execution_count": 2,
   "id": "d9819d73",
   "metadata": {},
   "outputs": [
    {
     "name": "stdout",
     "output_type": "stream",
     "text": [
      "3\n"
     ]
    }
   ],
   "source": [
    "list = [1,2,1,3,4]\n",
    "a = list.index(3)\n",
    "print(a)\n"
   ]
  },
  {
   "cell_type": "code",
   "execution_count": 4,
   "id": "3549ba99",
   "metadata": {},
   "outputs": [
    {
     "name": "stdout",
     "output_type": "stream",
     "text": [
      "3\n",
      "[1, 2, 1]\n",
      "2\n"
     ]
    }
   ],
   "source": [
    "b = list.pop()\n",
    "print(b)\n",
    "print(list)\n",
    "print(list.count(1))"
   ]
  },
  {
   "cell_type": "code",
   "execution_count": 7,
   "id": "7ccac4aa",
   "metadata": {},
   "outputs": [
    {
     "name": "stdout",
     "output_type": "stream",
     "text": [
      "[1, 2, 3, 4, 5]\n",
      "[5, 6, 7, 8, 9]\n"
     ]
    }
   ],
   "source": [
    "lst = [1, 2, 3, 4, 5, 6, 7, 8, 9]\n",
    "print(lst[:5])\n",
    "print(lst[-5:])"
   ]
  },
  {
   "cell_type": "code",
   "execution_count": 5,
   "id": "890f8d20",
   "metadata": {},
   "outputs": [
    {
     "name": "stdout",
     "output_type": "stream",
     "text": [
      "0 1\n",
      "1 2\n",
      "2 3\n",
      "3 4\n",
      "4 5\n"
     ]
    }
   ],
   "source": [
    "nums = [1, 2, 3, 4, 5]\n",
    "for idx,num in enumerate(nums):\n",
    "    print(idx,num)"
   ]
  },
  {
   "cell_type": "code",
   "execution_count": 1,
   "id": "7f4d3547",
   "metadata": {},
   "outputs": [
    {
     "name": "stdout",
     "output_type": "stream",
     "text": [
      "[1, 2, 3, 4, 5, 6, 7, 8, 9, 10, 11, 12, 13, 14, 15, 16, 17, 18, 19, 20]\n"
     ]
    }
   ],
   "source": [
    "list = list(range(1,21))\n",
    "print(list)"
   ]
  },
  {
   "cell_type": "code",
   "execution_count": 3,
   "id": "376cdf8d",
   "metadata": {},
   "outputs": [
    {
     "name": "stdout",
     "output_type": "stream",
     "text": [
      "1\n",
      "11\n",
      "20\n"
     ]
    }
   ],
   "source": [
    "print(list[0])\n",
    "print(list[len(list)//2])\n",
    "print(list[-1]) "
   ]
  },
  {
   "cell_type": "code",
   "execution_count": 8,
   "id": "b6d50db9",
   "metadata": {},
   "outputs": [
    {
     "name": "stdout",
     "output_type": "stream",
     "text": [
      "[1, 4, 9, 16, 25, 36, 49, 64, 81, 100]\n"
     ]
    }
   ],
   "source": [
    "a = [x**2 for x in range (11) if x>0]\n",
    "print(a)"
   ]
  },
  {
   "cell_type": "code",
   "execution_count": 9,
   "id": "101c7f72",
   "metadata": {},
   "outputs": [
    {
     "name": "stdout",
     "output_type": "stream",
     "text": [
      "[2, 4, 6, 8]\n"
     ]
    }
   ],
   "source": [
    "lst = [1, 2, 3, 4, 5, 6, 7, 8, 9]\n",
    "list = [x for x in lst if x % 2 == 0]\n",
    "print(list)"
   ]
  },
  {
   "cell_type": "code",
   "execution_count": 19,
   "id": "3bb59469",
   "metadata": {},
   "outputs": [
    {
     "name": "stdout",
     "output_type": "stream",
     "text": [
      "[7, 11, 10, 15, 18, 8, 29, 11, 13, 1, 20, 8, 25, 30, 2, 22, 6, 11, 16, 15]\n",
      "{1, 2, 6, 7, 8, 10, 11, 13, 15, 16, 18, 20, 22, 25, 29, 30}\n"
     ]
    }
   ],
   "source": [
    "import random\n",
    "random_num = [random.randint(1,30) for _ in range(20)]\n",
    "print(random_num)\n",
    "unique_num = set(random_num)\n",
    "print(unique_num)"
   ]
  },
  {
   "cell_type": "code",
   "execution_count": 25,
   "id": "034dccec",
   "metadata": {},
   "outputs": [
    {
     "name": "stdout",
     "output_type": "stream",
     "text": [
      "[[2, 5, 7], [1, 3, 4], [6, 8, 9]]\n",
      "[2, 5, 7]\n",
      "[1, 3, 4]\n",
      "[6, 8, 9]\n",
      "5\n",
      "9\n"
     ]
    }
   ],
   "source": [
    "matrix = [[2,5,7],\n",
    "          [1,3,4],\n",
    "          [6,8,9]]\n",
    "print(matrix)\n",
    "for row in matrix:\n",
    "    print(row)\n",
    "print(matrix[0][1])  # Accessing element at row 0, column 1\n",
    "print(matrix[2][2])  # Accessing element at row 1, column 2"
   ]
  },
  {
   "cell_type": "code",
   "execution_count": 4,
   "id": "0bde10ae",
   "metadata": {},
   "outputs": [
    {
     "name": "stdout",
     "output_type": "stream",
     "text": [
      "Ashu Neha\n",
      "Ashu NehaAshu NehaAshu Neha\n"
     ]
    }
   ],
   "source": [
    "a = (\"Ashu\")\n",
    "b = (\"Neha\")\n",
    "c = a + \" \"+b\n",
    "print(c)\n",
    "print(c*3)"
   ]
  },
  {
   "cell_type": "code",
   "execution_count": 5,
   "id": "ea94bfee",
   "metadata": {},
   "outputs": [
    {
     "name": "stdout",
     "output_type": "stream",
     "text": [
      "(1, 2, 3, 1, 2, 3, 1, 2, 3)\n"
     ]
    }
   ],
   "source": [
    "a=(1,2,3)\n",
    "print(a*3)"
   ]
  },
  {
   "cell_type": "code",
   "execution_count": 7,
   "id": "3a0457bf",
   "metadata": {},
   "outputs": [
    {
     "name": "stdout",
     "output_type": "stream",
     "text": [
      "(1, 2, 3)\n",
      "1 2 3\n"
     ]
    }
   ],
   "source": [
    "#packing\n",
    "packed_tuple = 1, 2, 3\n",
    "print(packed_tuple)\n",
    "#Unpacked tuple\n",
    "a,b,c = packed_tuple\n",
    "print(a, b, c)"
   ]
  },
  {
   "cell_type": "code",
   "execution_count": 8,
   "id": "b848849a",
   "metadata": {},
   "outputs": [
    {
     "name": "stdout",
     "output_type": "stream",
     "text": [
      "1 [2, 3, 4, 5] 6\n"
     ]
    }
   ],
   "source": [
    "num = (1,2,3,4,5,6)\n",
    "first,*middle,last = num\n",
    "print(first, middle, last)"
   ]
  },
  {
   "cell_type": "code",
   "execution_count": 9,
   "id": "051b0d4e",
   "metadata": {},
   "outputs": [
    {
     "name": "stdout",
     "output_type": "stream",
     "text": [
      "(1, 2, 3)\n",
      "(4, 5, 6)\n",
      "Element at 1st row and 2nd column:6\n"
     ]
    }
   ],
   "source": [
    "matrix = ((1,2,3),(4,5,6))\n",
    "for row in matrix:\n",
    "    print(row)\n",
    "print(f\"Element at 1st row and 2nd column:{matrix[1][2]}\")"
   ]
  },
  {
   "cell_type": "code",
   "execution_count": 15,
   "id": "9b95c71d",
   "metadata": {},
   "outputs": [
    {
     "data": {
      "text/plain": [
       "6"
      ]
     },
     "execution_count": 15,
     "metadata": {},
     "output_type": "execute_result"
    }
   ],
   "source": [
    "tpl = (1,2,3,1,4,2,5,5,5)\n",
    "tpl.count(5)\n",
    "tpl.index(5)"
   ]
  },
  {
   "cell_type": "code",
   "execution_count": 19,
   "id": "f186afea",
   "metadata": {},
   "outputs": [
    {
     "name": "stdout",
     "output_type": "stream",
     "text": [
      "('h', 'e', 'l', 'l', 'o')\n",
      "h.e.l.l.o\n"
     ]
    }
   ],
   "source": [
    "string = \"hello\"\n",
    "tpl = tuple(string)\n",
    "print(tpl)\n",
    "joined_string = '.'.join(tpl)\n",
    "print(joined_string)"
   ]
  },
  {
   "cell_type": "code",
   "execution_count": 20,
   "id": "b3c1a713",
   "metadata": {},
   "outputs": [
    {
     "name": "stdout",
     "output_type": "stream",
     "text": [
      "{(1, 2): 3, (4, 5): 6, (7, 8): 9}\n"
     ]
    }
   ],
   "source": [
    "tpl_dict = {\n",
    "    (1, 2): 3,\n",
    "    (4, 5): 6,\n",
    "    (7, 8): 9\n",
    "}\n",
    "print(tpl_dict)"
   ]
  },
  {
   "cell_type": "code",
   "execution_count": 21,
   "id": "eb408bbf",
   "metadata": {},
   "outputs": [
    {
     "name": "stdout",
     "output_type": "stream",
     "text": [
      "{1, 2, 3, 4, 5}\n"
     ]
    }
   ],
   "source": [
    "tpl = (1, 2, 2, 3, 4, 4, 4, 5)\n",
    "unique_set = set(tpl)\n",
    "print(unique_set)"
   ]
  },
  {
   "cell_type": "code",
   "execution_count": 22,
   "id": "3a7d5dad",
   "metadata": {},
   "outputs": [
    {
     "name": "stdout",
     "output_type": "stream",
     "text": [
      "Minimum: 1\n",
      "Maximum: 5\n",
      "Sum: 15\n"
     ]
    }
   ],
   "source": [
    "def min_in_tuple(tpl):\n",
    "    return min(tpl)\n",
    "\n",
    "def max_in_tuple(tpl):\n",
    "    return max(tpl)\n",
    "\n",
    "def sum_of_tuple(tpl):\n",
    "    return sum(tpl)\n",
    "\n",
    "sample_tpl = (1, 2, 3, 4, 5)\n",
    "print(f\"Minimum: {min_in_tuple(sample_tpl)}\")\n",
    "print(f\"Maximum: {max_in_tuple(sample_tpl)}\")\n",
    "print(f\"Sum: {sum_of_tuple(sample_tpl)}\")"
   ]
  },
  {
   "cell_type": "code",
   "execution_count": 23,
   "id": "07999587",
   "metadata": {},
   "outputs": [
    {
     "name": "stdout",
     "output_type": "stream",
     "text": [
      "[1, 2, 3, 1, 2, 3]\n"
     ]
    }
   ],
   "source": [
    "x = [1,2,3]\n",
    "print(x*2)"
   ]
  },
  {
   "cell_type": "code",
   "execution_count": 24,
   "id": "64c2b173",
   "metadata": {},
   "outputs": [
    {
     "data": {
      "text/plain": [
       "9"
      ]
     },
     "execution_count": 24,
     "metadata": {},
     "output_type": "execute_result"
    }
   ],
   "source": [
    "5**2//3+1\n"
   ]
  },
  {
   "cell_type": "code",
   "execution_count": 26,
   "id": "97c1a19d",
   "metadata": {},
   "outputs": [
    {
     "name": "stdout",
     "output_type": "stream",
     "text": [
      "False\n"
     ]
    }
   ],
   "source": [
    "list=[]\n",
    "a = bool(list)\n",
    "print(a)"
   ]
  },
  {
   "cell_type": "code",
   "execution_count": 1,
   "id": "c9a4a974",
   "metadata": {},
   "outputs": [
    {
     "name": "stdout",
     "output_type": "stream",
     "text": [
      "{1, 2, 3, 4, 8, 9}\n"
     ]
    }
   ],
   "source": [
    "set1 = {1,2,3,4,6,7}\n",
    "set2 = {6,7,8,9}\n",
    "sdiff  = set1.symmetric_difference(set2)\n",
    "print(sdiff)"
   ]
  },
  {
   "cell_type": "code",
   "execution_count": 2,
   "id": "913e9bb8",
   "metadata": {},
   "outputs": [
    {
     "name": "stdout",
     "output_type": "stream",
     "text": [
      "{'you', 'I', 'hungry', ',Fight', 'can', 'be', 'about', 'have', 'buddy.', 'it', 'Ashu,', 'but', 'your', 'know', 'bigger', 'dreams', 'are', 'passion', 'and', 'reckless', 'Hey', 'enough.How', 'so'}\n"
     ]
    }
   ],
   "source": [
    "text = \"Hey Ashu, I know you have bigger dreams and passion but are you hungry enough.How can you be so reckless about your dreams ,Fight it buddy.\"\n",
    "words = text.split()\n",
    "unique_words = set(words)\n",
    "print(unique_words)"
   ]
  },
  {
   "cell_type": "code",
   "execution_count": 6,
   "id": "7573b3cc",
   "metadata": {},
   "outputs": [
    {
     "name": "stdout",
     "output_type": "stream",
     "text": [
      "{1, 2, 3, 4, 5, 6, 8, 10}\n",
      "{2, 4}\n",
      "{1, 3, 5}\n",
      "{1, 3, 5, 6, 8, 10}\n"
     ]
    }
   ],
   "source": [
    "set1 = set(range(1,6))\n",
    "set2 = set(range(2,11,2))\n",
    "print(set1.union(set2))\n",
    "print(set1.intersection(set2))\n",
    "print(set1.difference(set2))\n",
    "print(set1.symmetric_difference(set2))"
   ]
  },
  {
   "cell_type": "code",
   "execution_count": 7,
   "id": "b21a9d5d",
   "metadata": {},
   "outputs": [
    {
     "name": "stdout",
     "output_type": "stream",
     "text": [
      "{2, 4, 6}\n"
     ]
    }
   ],
   "source": [
    "s= {1,2,3,4,5,6,7}\n",
    "even_s = {x for x in s if x%2 == 0}\n",
    "print(even_s)"
   ]
  },
  {
   "cell_type": "code",
   "execution_count": 8,
   "id": "4664f177",
   "metadata": {},
   "outputs": [
    {
     "name": "stdout",
     "output_type": "stream",
     "text": [
      "frozenset({1, 2, 3, 4, 5})\n"
     ]
    }
   ],
   "source": [
    "fs = frozenset(range(1, 6))\n",
    "print(fs)\n"
   ]
  },
  {
   "cell_type": "code",
   "execution_count": 12,
   "id": "7deee37f",
   "metadata": {},
   "outputs": [
    {
     "name": "stdout",
     "output_type": "stream",
     "text": [
      "{1, 2, 3, 4}\n",
      "frozenset({1, 2, 3, 4})\n"
     ]
    }
   ],
   "source": [
    "s = {1,2,3}\n",
    "s.add(4)\n",
    "print(s)\n",
    "s1 = frozenset(s)\n",
    "print(s1)\n"
   ]
  },
  {
   "cell_type": "code",
   "execution_count": 13,
   "id": "1c0d9067",
   "metadata": {},
   "outputs": [
    {
     "name": "stdout",
     "output_type": "stream",
     "text": [
      "{2, 3, 4, 5}\n",
      "{3, 4, 5}\n",
      "{4, 5}\n",
      "{5}\n",
      "set()\n"
     ]
    }
   ],
   "source": [
    "s = set(range(1, 6))\n",
    "while s:\n",
    "    s.pop()\n",
    "    print(s)"
   ]
  },
  {
   "cell_type": "code",
   "execution_count": 14,
   "id": "65984786",
   "metadata": {},
   "outputs": [
    {
     "name": "stdout",
     "output_type": "stream",
     "text": [
      "{1, 2, 4, 5}\n"
     ]
    }
   ],
   "source": [
    "set1 = {1, 2, 3}\n",
    "set2 = {3, 4, 5}\n",
    "set1.symmetric_difference_update(set2)\n",
    "print(set1)"
   ]
  },
  {
   "cell_type": "code",
   "execution_count": 15,
   "id": "b1160e17",
   "metadata": {},
   "outputs": [
    {
     "name": "stdout",
     "output_type": "stream",
     "text": [
      "True\n",
      "False\n"
     ]
    }
   ],
   "source": [
    "s = set(range(1, 6))\n",
    "print(3 in s)\n",
    "print(6 in s)"
   ]
  },
  {
   "cell_type": "code",
   "execution_count": 16,
   "id": "d74f7023",
   "metadata": {},
   "outputs": [
    {
     "name": "stdout",
     "output_type": "stream",
     "text": [
      "{(1, 2), (3, 4), (5, 6)}\n"
     ]
    }
   ],
   "source": [
    "s = { (1, 2), (3, 4), (5, 6) }\n",
    "print(s)"
   ]
  },
  {
   "cell_type": "code",
   "execution_count": null,
   "id": "9c7a2453",
   "metadata": {},
   "outputs": [
    {
     "name": "stdout",
     "output_type": "stream",
     "text": [
      "{'name': 'Ashu', 'age': 23, 'city': 'Bbsr'}\n",
      "{'name': 'Ashu', 'age': 24, 'city': 'Bbsr'}\n",
      "{'name': 'Ashu', 'age': 24, 'city': 'Bbsr'}\n",
      "{'name': 'Ashu', 'age': 30, 'city': 'Bbsr'}\n",
      "{'name': 'Ashu', 'age': 24, 'city': 'Bbsr'}\n"
     ]
    }
   ],
   "source": [
    "#Copy and shallow copy\n",
    "student = {\"name\":\"Ashu\",\"age\":23,\"city\":\"Bbsr\"}\n",
    "student_copy = student\n",
    "print(student_copy)\n",
    "student[\"age\"] = 24\n",
    "print(student)\n",
    "print(student_copy)  # This will reflect the change as well\n",
    "student_shallow_copy = student.copy()\n",
    "student[\"age\"] = 30\n",
    "print(student)\n",
    "print(student_shallow_copy)  # This will not reflect the change"
   ]
  },
  {
   "cell_type": "code",
   "execution_count": null,
   "id": "e474da40",
   "metadata": {},
   "outputs": [
    {
     "name": "stdout",
     "output_type": "stream",
     "text": [
      "name:Ashu\n",
      "age:30\n",
      "city:Bbsr\n"
     ]
    }
   ],
   "source": [
    "# Iterate over key,value pairs in a dictionary\n",
    "for key,value in student.items():\n",
    "    print(f\"{key}:{value}\")"
   ]
  },
  {
   "cell_type": "code",
   "execution_count": 6,
   "id": "507f5e1e",
   "metadata": {},
   "outputs": [
    {
     "name": "stdout",
     "output_type": "stream",
     "text": [
      "{1: 1, 2: 4, 3: 9, 4: 16, 5: 25, 6: 36, 7: 49, 8: 64, 9: 81, 10: 100}\n"
     ]
    }
   ],
   "source": [
    "#Merging two dictionaries\n",
    "d1 = {x:x**2 for x in range(1,6)}\n",
    "d2 = {x:x**2 for x in range(6,11)}\n",
    "d1.update(d2)\n",
    "print(d1)"
   ]
  },
  {
   "cell_type": "code",
   "execution_count": 7,
   "id": "45344757",
   "metadata": {},
   "outputs": [
    {
     "name": "stdout",
     "output_type": "stream",
     "text": [
      "{1: [1, 2, 3, 4, 5], 2: [2, 4, 6, 8, 10], 3: [3, 6, 9, 12, 15], 4: [4, 8, 12, 16, 20], 5: [5, 10, 15, 20, 25]}\n"
     ]
    }
   ],
   "source": [
    "multiples = {i: [i * j for j in range(1, 6)] for i in range(1, 6)}\n",
    "print(multiples)"
   ]
  },
  {
   "cell_type": "code",
   "execution_count": 8,
   "id": "4a7a0eb0",
   "metadata": {},
   "outputs": [
    {
     "name": "stdout",
     "output_type": "stream",
     "text": [
      "{1: (1, 1), 2: (2, 4), 3: (3, 9), 4: (4, 16), 5: (5, 25)}\n"
     ]
    }
   ],
   "source": [
    "tuple_dict = {i: (i, i**2) for i in range(1, 6)}\n",
    "print(tuple_dict)"
   ]
  },
  {
   "cell_type": "code",
   "execution_count": 16,
   "id": "b6d899be",
   "metadata": {},
   "outputs": [
    {
     "name": "stdout",
     "output_type": "stream",
     "text": [
      "{2: 4, 4: 16, 6: 36, 8: 64, 10: 100}\n",
      "{4: 2, 16: 4, 36: 6, 64: 8, 100: 10}\n"
     ]
    }
   ],
   "source": [
    "d = {i: i**2 for i in range(1, 11)}\n",
    "even_dict = {k: v for k, v in d.items() if k % 2 == 0}\n",
    "print(even_dict)\n",
    "swap_dict = {y:x for x,y in even_dict.items()}\n",
    "print(swap_dict)"
   ]
  },
  {
   "cell_type": "code",
   "execution_count": 17,
   "id": "4fe67362",
   "metadata": {},
   "outputs": [
    {
     "name": "stdout",
     "output_type": "stream",
     "text": [
      "defaultdict(<class 'list'>, {'a': [1, 2], 'b': [3]})\n"
     ]
    }
   ],
   "source": [
    "from collections import defaultdict\n",
    "\n",
    "default_dict = defaultdict(list)\n",
    "default_dict['a'].append(1)\n",
    "default_dict['a'].append(2)\n",
    "default_dict['b'].append(3)\n",
    "print(default_dict)"
   ]
  },
  {
   "cell_type": "code",
   "execution_count": 18,
   "id": "33e1b793",
   "metadata": {},
   "outputs": [
    {
     "name": "stdout",
     "output_type": "stream",
     "text": [
      "{'h': 1, 'e': 1, 'l': 3, 'o': 2, ' ': 1, 'w': 1, 'r': 1, 'd': 1}\n"
     ]
    }
   ],
   "source": [
    "def count_chars(s):\n",
    "    count_dict = {}\n",
    "    for char in s:\n",
    "        count_dict[char] = count_dict.get(char, 0) + 1\n",
    "    return count_dict\n",
    "\n",
    "string = \"hello world\"\n",
    "print(count_chars(string))"
   ]
  },
  {
   "cell_type": "code",
   "execution_count": 19,
   "id": "2294beab",
   "metadata": {},
   "outputs": [
    {
     "name": "stdout",
     "output_type": "stream",
     "text": [
      "{\"title\": \"To Kill a Mockingbird\", \"author\": \"Harper Lee\", \"year\": 1960, \"genre\": \"Fiction\"}\n"
     ]
    }
   ],
   "source": [
    "#dictionary to JSON\n",
    "import json\n",
    "\n",
    "book = {\n",
    "    'title': 'To Kill a Mockingbird',\n",
    "    'author': 'Harper Lee',\n",
    "    'year': 1960,\n",
    "    'genre': 'Fiction'\n",
    "}\n",
    "book_json = json.dumps(book)\n",
    "print(book_json)"
   ]
  },
  {
   "cell_type": "code",
   "execution_count": 1,
   "id": "b3425f1b",
   "metadata": {},
   "outputs": [
    {
     "name": "stdout",
     "output_type": "stream",
     "text": [
      "8\n",
      "2\n"
     ]
    }
   ],
   "source": [
    "from package.math import addition, subtraction\n",
    "print(f\"{addition(5, 3)}\")\n",
    "print(f\"{subtraction(5, 3)}\")"
   ]
  },
  {
   "cell_type": "code",
   "execution_count": 4,
   "id": "5dfb8405",
   "metadata": {},
   "outputs": [
    {
     "name": "stdout",
     "output_type": "stream",
     "text": [
      "8\n",
      "d\n"
     ]
    }
   ],
   "source": [
    "import random\n",
    "print(random.randint(1,10))\n",
    "print(random.choice(['a','b','c','d']))\n"
   ]
  },
  {
   "cell_type": "code",
   "execution_count": 5,
   "id": "4ada057b",
   "metadata": {},
   "outputs": [
    {
     "name": "stdout",
     "output_type": "stream",
     "text": [
      "c:\\Users\\jenaa\\OneDrive\\Desktop\\DSML\n"
     ]
    }
   ],
   "source": [
    "import os\n",
    "print(os.getcwd())"
   ]
  }
 ],
 "metadata": {
  "kernelspec": {
   "display_name": "venv",
   "language": "python",
   "name": "python3"
  },
  "language_info": {
   "codemirror_mode": {
    "name": "ipython",
    "version": 3
   },
   "file_extension": ".py",
   "mimetype": "text/x-python",
   "name": "python",
   "nbconvert_exporter": "python",
   "pygments_lexer": "ipython3",
   "version": "3.12.0"
  }
 },
 "nbformat": 4,
 "nbformat_minor": 5
}
