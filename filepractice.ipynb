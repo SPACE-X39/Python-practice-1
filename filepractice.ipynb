{
  "cells": [
    {
      "cell_type": "markdown",
      "metadata": {
        "id": "view-in-github",
        "colab_type": "text"
      },
      "source": [
        "<a href=\"https://colab.research.google.com/github/SPACE-X39/Python-practice-1/blob/main/filepractice.ipynb\" target=\"_parent\"><img src=\"https://colab.research.google.com/assets/colab-badge.svg\" alt=\"Open In Colab\"/></a>"
      ]
    },
    {
      "cell_type": "markdown",
      "id": "43961295",
      "metadata": {
        "id": "43961295"
      },
      "source": [
        "File Practices"
      ]
    },
    {
      "cell_type": "code",
      "execution_count": null,
      "id": "28fbae2a",
      "metadata": {
        "id": "28fbae2a",
        "outputId": "9ee8d00e-ae09-402f-c0d2-2a92e0f77515"
      },
      "outputs": [
        {
          "name": "stdout",
          "output_type": "stream",
          "text": [
            "Hey Ashu!\n",
            "how are you?\n",
            "All good!\n",
            "yess it seems like good but it's not\n"
          ]
        }
      ],
      "source": [
        "#Writing a function to read and print file contents\n",
        "def read_file(filename):\n",
        "  with open(filename,'r') as file:\n",
        "    for line in file:\n",
        "        print(line.strip())\n",
        "read_file('sample.txt')\n",
        ""
      ]
    },
    {
      "cell_type": "code",
      "execution_count": null,
      "id": "d5f4fba3",
      "metadata": {
        "id": "d5f4fba3"
      },
      "outputs": [],
      "source": [
        "#Writing afunction to write a list of strings on a new line in a file\n",
        "def write_file(lines,filename):\n",
        " with open(filename,'w') as file:\n",
        "    for line in lines:\n",
        "        file.write(line + '\\n')\n",
        "\n",
        "\n",
        "write_file([\"Hey\",\"bye\",\"Yes\",\"No\"],'output.txt')"
      ]
    },
    {
      "cell_type": "code",
      "execution_count": null,
      "id": "402bee0f",
      "metadata": {
        "id": "402bee0f",
        "outputId": "9bcc3a35-4368-435e-d665-9195c894b055"
      },
      "outputs": [
        {
          "name": "stdout",
          "output_type": "stream",
          "text": [
            "4\n"
          ]
        }
      ],
      "source": [
        "#Counting words in a file\n",
        "def count_words(filename):\n",
        "    with open (filename,'r') as file:\n",
        "        content = file.read()\n",
        "        words = content.split()\n",
        "        return len(words)\n",
        "print(count_words('source.txt'))"
      ]
    },
    {
      "cell_type": "code",
      "execution_count": null,
      "id": "a8d57cfe",
      "metadata": {
        "id": "a8d57cfe"
      },
      "outputs": [],
      "source": [
        "#find and replace old word with a new word in a file\n",
        "def find_replace(filename, old_word, new_word):\n",
        "    with open(filename,'r') as file:\n",
        "        content = file.read()\n",
        "    New_content = content.replace(old_word, new_word)\n",
        "    with open(filename,'w') as file:\n",
        "        file.write(New_content)\n",
        "find_replace('output.txt',\"No\",\"Absolutely not\")"
      ]
    },
    {
      "cell_type": "code",
      "execution_count": null,
      "id": "601e16db",
      "metadata": {
        "id": "601e16db",
        "outputId": "64806645-504d-4ea7-d1f2-2dba3a02c05f"
      },
      "outputs": [
        {
          "name": "stdout",
          "output_type": "stream",
          "text": [
            "Absolutely not\n",
            "Yes\n",
            "bye\n",
            "Hey\n"
          ]
        }
      ],
      "source": [
        "#reading a file in reverse order\n",
        "def read_reverse(filename):\n",
        "    with open(filename,'r') as file:\n",
        "        lines = file.readlines()\n",
        "        for line in reversed(lines):\n",
        "            print(line.strip())\n",
        "read_reverse('output.txt')"
      ]
    },
    {
      "cell_type": "code",
      "execution_count": null,
      "id": "621dff21",
      "metadata": {
        "id": "621dff21"
      },
      "outputs": [],
      "source": [
        "#Mergeing different file contents into a single file\n",
        "def merge_files(file_list,output_file):\n",
        "    with open(output_file,'w') as outfile:\n",
        "        for fname in file_list:\n",
        "            with open(fname,'r') as infile:\n",
        "                outfile.write(infile.read()+'\\n')\n",
        "merge_files(['sample.txt','source.txt'],'output.txt')"
      ]
    },
    {
      "cell_type": "code",
      "execution_count": null,
      "id": "765ac1d3",
      "metadata": {
        "id": "765ac1d3",
        "outputId": "247ce433-9e39-40da-9a45-7962618a5785"
      },
      "outputs": [
        {
          "name": "stdout",
          "output_type": "stream",
          "text": [
            "Hey Ashu! \n",
            "how are you?\n",
            "All good!\n",
            "yess it seems like good but it's not \n"
          ]
        }
      ],
      "source": [
        "#handling file permission error gracefully\n",
        "def protected_read(filename):\n",
        "    try:\n",
        "        with open(filename,'r') as file:\n",
        "            content = file.read()\n",
        "            print(content)\n",
        "    except PermissionError as e:\n",
        "        print(f\"PermissionError: {e}\")\n",
        "protected_read('sample.txt')"
      ]
    }
  ],
  "metadata": {
    "kernelspec": {
      "display_name": "myenv (3.13.1)",
      "language": "python",
      "name": "python3"
    },
    "language_info": {
      "codemirror_mode": {
        "name": "ipython",
        "version": 3
      },
      "file_extension": ".py",
      "mimetype": "text/x-python",
      "name": "python",
      "nbconvert_exporter": "python",
      "pygments_lexer": "ipython3",
      "version": "3.13.1"
    },
    "colab": {
      "provenance": [],
      "include_colab_link": true
    }
  },
  "nbformat": 4,
  "nbformat_minor": 5
}